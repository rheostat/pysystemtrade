{
 "cells": [
  {
   "cell_type": "code",
   "execution_count": null,
   "metadata": {},
   "outputs": [],
   "source": [
    "from datetime import datetime, timedelta\n",
    "\n",
    "import matplotlib.pyplot as plt\n",
    "import numpy as np\n",
    "import pandas as pd\n",
    "\n",
    "from systems.provided.mike.make_system import make_system\n",
    "\n",
    "plt.rc('figure', figsize=(30,20))"
   ]
  },
  {
   "cell_type": "code",
   "execution_count": null,
   "metadata": {},
   "outputs": [],
   "source": [
    "system = make_system()\n",
    "system.config.start_date = datetime.now() - timedelta(days=365*10)\n",
    "system.config.instruments =  ['AGG', 'BITO', 'EEM', 'FXC', 'FXE', 'FXY', 'GLD', 'HYG', 'IEF', 'LQD', 'PDBC', 'QQQ', 'SHY', 'SPY', 'TLT', 'VYM']\n",
    "\n",
    "system.config.average_absolute_forecast = 1.0\n",
    "system.config.forecast_cap = 2.0\n",
    "\n",
    "system.config.use_forecast_scale_estimates = True\n",
    "system.config.use_forecast_div_mult_estimates = True\n"
   ]
  },
  {
   "cell_type": "code",
   "execution_count": null,
   "metadata": {},
   "outputs": [],
   "source": [
    "def plot_all(df, axs, label=None):\n",
    "\n",
    "    axs = [ax for row in axs for ax in row]\n",
    "    for i, name in enumerate(df.columns):\n",
    "        df[name].plot(ax=axs[i], label=label)\n",
    "        axs[i].set_title(name)\n",
    "        axs[i].set_xlim(df.index[0], df.index[-1])\n",
    "        axs[i].legend()\n",
    "\n",
    "def plot_create_axes(df, n_cols=5, figsize=(30,10)):\n",
    "    n = df.shape[1]\n",
    "    n_rows = int(np.ceil(n / n_cols))\n",
    "    fig, axs = plt.subplots(nrows=n_rows, ncols=n_cols)\n",
    "    fig.set_size_inches(figsize)\n",
    "    return fig, axs\n",
    "\n",
    "instrument_code = 'SPY'\n",
    "rules = list(system.rules.trading_rules().keys())"
   ]
  },
  {
   "cell_type": "code",
   "execution_count": null,
   "metadata": {},
   "outputs": [],
   "source": [
    "forecasts = pd.concat([system.rules.get_raw_forecast(instrument_code, rule) for rule in rules], axis=1, keys=rules)\n",
    "fig, axs = plot_create_axes(forecasts, figsize=(30, 10))\n",
    "plot_all(forecasts, axs)\n",
    "plt.tight_layout()\n",
    "plt.show()"
   ]
  },
  {
   "cell_type": "code",
   "execution_count": null,
   "metadata": {},
   "outputs": [],
   "source": [
    "scalars = pd.concat([system.forecastScaleCap.get_forecast_scalar(instrument_code, rule) for rule in rules], axis=1, keys=rules)\n",
    "fig, axs = plot_create_axes(scalars, figsize=(30,10))\n",
    "plot_all(scalars, axs)\n",
    "plt.show()\n"
   ]
  },
  {
   "cell_type": "code",
   "execution_count": null,
   "metadata": {},
   "outputs": [],
   "source": [
    "raw_forecasts = pd.concat([system.forecastScaleCap.get_raw_forecast(instrument_code, rule) for rule in rules], axis=1, keys=rules)\n",
    "scaled_forecasts = pd.concat([system.forecastScaleCap.get_scaled_forecast(instrument_code, rule) for rule in rules], axis=1, keys=rules)\n",
    "capped_forecasts = pd.concat([system.forecastScaleCap.get_capped_forecast(instrument_code, rule) for rule in rules], axis=1, keys=rules)\n",
    "\n",
    "fig, axs = plot_create_axes(raw_forecasts)\n",
    "# plot_all(raw_forecasts, axs, label='raw')\n",
    "plot_all(scaled_forecasts, axs, label='scaled')\n",
    "plot_all(capped_forecasts, axs, label='capped')\n",
    "\n",
    "plt.tight_layout()\n",
    "plt.show()\n"
   ]
  },
  {
   "cell_type": "code",
   "execution_count": null,
   "metadata": {},
   "outputs": [],
   "source": [
    "all_forecasts = system.combForecast.get_all_forecasts(instrument_code)[rules]\n",
    "fig, axs = plot_create_axes(all_forecasts)\n",
    "plot_all(all_forecasts, axs)"
   ]
  },
  {
   "cell_type": "code",
   "execution_count": null,
   "metadata": {},
   "outputs": [],
   "source": [
    "fdm = system.combForecast.get_forecast_diversification_multiplier(instrument_code)\n",
    "fdm.plot()\n",
    "plt.xlim(fdm.index[0], fdm.index[-1])"
   ]
  },
  {
   "cell_type": "code",
   "execution_count": null,
   "metadata": {},
   "outputs": [],
   "source": [
    "combinedForecast = system.combForecast.get_combined_forecast(instrument_code)\n",
    "combinedForecast.plot()"
   ]
  }
 ],
 "metadata": {
  "kernelspec": {
   "display_name": "Python 3.8.10 ('pysystemtrade')",
   "language": "python",
   "name": "python3"
  },
  "language_info": {
   "codemirror_mode": {
    "name": "ipython",
    "version": 3
   },
   "file_extension": ".py",
   "mimetype": "text/x-python",
   "name": "python",
   "nbconvert_exporter": "python",
   "pygments_lexer": "ipython3",
   "version": "3.8.10 (default, Sep 28 2021, 16:10:42) \n[GCC 9.3.0]"
  },
  "orig_nbformat": 4,
  "vscode": {
   "interpreter": {
    "hash": "ba2b737dbb19e62fd18730681e2b5822c3435dd1677e97bce9f5992785fdf1fb"
   }
  }
 },
 "nbformat": 4,
 "nbformat_minor": 2
}
