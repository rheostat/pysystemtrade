{
 "cells": [
  {
   "cell_type": "code",
   "execution_count": 20,
   "metadata": {},
   "outputs": [],
   "source": [
    "import ib_insync\n",
    "from ib_insync import *\n",
    "util.startLoop()"
   ]
  },
  {
   "cell_type": "code",
   "execution_count": 21,
   "metadata": {},
   "outputs": [
    {
     "data": {
      "text/plain": [
       "[Position(account='U4315195', contract=Stock(conId=437113803, symbol='KRBN', exchange='ARCA', currency='USD', localSymbol='KRBN', tradingClass='KRBN'), position=5.0, avgCost=46.97326),\n",
       " Position(account='U4315195', contract=Stock(conId=320227565, symbol='PDBC', exchange='NASDAQ', currency='USD', localSymbol='PDBC', tradingClass='NMS'), position=1024.0, avgCost=18.70049355),\n",
       " Position(account='U4315195', contract=Stock(conId=490450360, symbol='PFIX', exchange='ARCA', currency='USD', localSymbol='PFIX', tradingClass='PFIX'), position=126.0, avgCost=55.5332103),\n",
       " Position(account='U3463371', contract=Stock(conId=490450360, symbol='PFIX', exchange='ARCA', currency='USD', localSymbol='PFIX', tradingClass='PFIX'), position=40.0, avgCost=55.2112125),\n",
       " Position(account='U3463371', contract=Stock(conId=521525019, symbol='BITO', exchange='ARCA', currency='USD', localSymbol='BITO', tradingClass='BITO'), position=-398.0, avgCost=12.2936412),\n",
       " Position(account='U3463371', contract=Stock(conId=6604766, symbol='EEM', exchange='ARCA', currency='USD', localSymbol='EEM', tradingClass='EEM'), position=-222.0, avgCost=40.32215855),\n",
       " Position(account='U3463371', contract=Option(conId=444932131, symbol='CCJ', lastTradeDateOrContractMonth='20230120', strike=17.0, right='P', multiplier='100', currency='USD', localSymbol='CCJ   230120P00017000', tradingClass='CCJ'), position=-2.0, avgCost=172.2978),\n",
       " Position(account='U3463371', contract=Option(conId=469098537, symbol='CCJ', lastTradeDateOrContractMonth='20230120', strike=30.0, right='C', multiplier='100', currency='USD', localSymbol='CCJ   230120C00030000', tradingClass='CCJ'), position=1.0, avgCost=312.0492),\n",
       " Position(account='U3463371', contract=Option(conId=444947932, symbol='DBA', lastTradeDateOrContractMonth='20230120', strike=19.0, right='C', multiplier='100', currency='USD', localSymbol='DBA   230120C00019000', tradingClass='DBA'), position=2.0, avgCost=240.59635),\n",
       " Position(account='U3463371', contract=Stock(conId=437113803, symbol='KRBN', exchange='ARCA', currency='USD', localSymbol='KRBN', tradingClass='KRBN'), position=2.0, avgCost=47.03495),\n",
       " Position(account='U3463371', contract=Stock(conId=8991562, symbol='IWD', exchange='ARCA', currency='USD', localSymbol='IWD', tradingClass='IWD'), position=-45.0, avgCost=147.44333555),\n",
       " Position(account='U3463371', contract=Stock(conId=41983555, symbol='DNN', exchange='AMEX', currency='USD', localSymbol='DNN', tradingClass='DNN'), position=1000.0, avgCost=1.2337026),\n",
       " Position(account='U3463371', contract=Stock(conId=8991557, symbol='IWF', exchange='ARCA', currency='USD', localSymbol='IWF', tradingClass='IWF'), position=-27.0, avgCost=225.3759037),\n",
       " Position(account='U3463371', contract=Stock(conId=25985141, symbol='AGG', exchange='ARCA', currency='USD', localSymbol='AGG', tradingClass='AGG'), position=-216.0, avgCost=100.75203935),\n",
       " Position(account='U3463371', contract=Stock(conId=320227565, symbol='PDBC', exchange='NASDAQ', currency='USD', localSymbol='PDBC', tradingClass='NMS'), position=479.0, avgCost=18.91076305),\n",
       " Position(account='U3463371', contract=Stock(conId=51529211, symbol='GLD', exchange='ARCA', currency='USD', localSymbol='GLD', tradingClass='GLD'), position=-55.0, avgCost=166.5067182),\n",
       " Position(account='U3601465', contract=Stock(conId=490450360, symbol='PFIX', exchange='ARCA', currency='USD', localSymbol='PFIX', tradingClass='PFIX'), position=207.0, avgCost=55.4706222),\n",
       " Position(account='U3601465', contract=Stock(conId=437113803, symbol='KRBN', exchange='ARCA', currency='USD', localSymbol='KRBN', tradingClass='KRBN'), position=9.0, avgCost=46.9571222),\n",
       " Position(account='U3601465', contract=Stock(conId=320227565, symbol='PDBC', exchange='NASDAQ', currency='USD', localSymbol='PDBC', tradingClass='NMS'), position=1830.0, avgCost=18.696384)]"
      ]
     },
     "execution_count": 21,
     "metadata": {},
     "output_type": "execute_result"
    }
   ],
   "source": [
    "ib = IB()\n",
    "ib.connect('192.168.86.3', 7497, clientId=11, timeout=10)\n",
    "ib.positions()"
   ]
  },
  {
   "cell_type": "code",
   "execution_count": 26,
   "metadata": {},
   "outputs": [
    {
     "data": {
      "text/plain": [
       "datetime.datetime(1993, 1, 29, 9, 0)"
      ]
     },
     "execution_count": 26,
     "metadata": {},
     "output_type": "execute_result"
    }
   ],
   "source": [
    "contract = Stock('SPY', 'SMART', 'USD')\n",
    "\n",
    "ib.reqHeadTimeStamp(contract, whatToShow='TRADES', useRTH=True)"
   ]
  },
  {
   "cell_type": "code",
   "execution_count": 28,
   "metadata": {},
   "outputs": [],
   "source": [
    "bars = ib.reqHistoricalData(\n",
    "        contract,\n",
    "        endDateTime='',\n",
    "        durationStr='365 D',\n",
    "        barSizeSetting='1 day',\n",
    "        whatToShow='TRADES',\n",
    "        useRTH=True,\n",
    "        formatDate=1)"
   ]
  },
  {
   "cell_type": "code",
   "execution_count": 29,
   "metadata": {},
   "outputs": [
    {
     "data": {
      "text/plain": [
       "datetime.datetime(1993, 1, 29, 14, 30)"
      ]
     },
     "execution_count": 29,
     "metadata": {},
     "output_type": "execute_result"
    }
   ],
   "source": [
    "ib.reqHeadTimeStamp(contract, whatToShow='TRADES', useRTH=True)"
   ]
  },
  {
   "cell_type": "code",
   "execution_count": 30,
   "metadata": {},
   "outputs": [
    {
     "data": {
      "text/html": [
       "<div>\n",
       "<style scoped>\n",
       "    .dataframe tbody tr th:only-of-type {\n",
       "        vertical-align: middle;\n",
       "    }\n",
       "\n",
       "    .dataframe tbody tr th {\n",
       "        vertical-align: top;\n",
       "    }\n",
       "\n",
       "    .dataframe thead th {\n",
       "        text-align: right;\n",
       "    }\n",
       "</style>\n",
       "<table border=\"1\" class=\"dataframe\">\n",
       "  <thead>\n",
       "    <tr style=\"text-align: right;\">\n",
       "      <th></th>\n",
       "      <th>date</th>\n",
       "      <th>open</th>\n",
       "      <th>high</th>\n",
       "      <th>low</th>\n",
       "      <th>close</th>\n",
       "      <th>volume</th>\n",
       "      <th>average</th>\n",
       "      <th>barCount</th>\n",
       "    </tr>\n",
       "  </thead>\n",
       "  <tbody>\n",
       "    <tr>\n",
       "      <th>0</th>\n",
       "      <td>2021-01-27</td>\n",
       "      <td>380.22</td>\n",
       "      <td>380.32</td>\n",
       "      <td>372.01</td>\n",
       "      <td>374.41</td>\n",
       "      <td>824013.82</td>\n",
       "      <td>376.1155</td>\n",
       "      <td>425176</td>\n",
       "    </tr>\n",
       "    <tr>\n",
       "      <th>1</th>\n",
       "      <td>2021-01-28</td>\n",
       "      <td>376.35</td>\n",
       "      <td>381.93</td>\n",
       "      <td>375.89</td>\n",
       "      <td>377.63</td>\n",
       "      <td>566183.05</td>\n",
       "      <td>379.5650</td>\n",
       "      <td>308505</td>\n",
       "    </tr>\n",
       "    <tr>\n",
       "      <th>2</th>\n",
       "      <td>2021-01-29</td>\n",
       "      <td>375.61</td>\n",
       "      <td>376.67</td>\n",
       "      <td>368.27</td>\n",
       "      <td>370.07</td>\n",
       "      <td>891254.84</td>\n",
       "      <td>371.9580</td>\n",
       "      <td>450584</td>\n",
       "    </tr>\n",
       "    <tr>\n",
       "      <th>3</th>\n",
       "      <td>2021-02-01</td>\n",
       "      <td>373.72</td>\n",
       "      <td>377.34</td>\n",
       "      <td>371.42</td>\n",
       "      <td>376.23</td>\n",
       "      <td>475904.11</td>\n",
       "      <td>375.1070</td>\n",
       "      <td>248781</td>\n",
       "    </tr>\n",
       "    <tr>\n",
       "      <th>4</th>\n",
       "      <td>2021-02-02</td>\n",
       "      <td>379.61</td>\n",
       "      <td>383.22</td>\n",
       "      <td>379.60</td>\n",
       "      <td>381.55</td>\n",
       "      <td>428277.52</td>\n",
       "      <td>382.0780</td>\n",
       "      <td>206927</td>\n",
       "    </tr>\n",
       "  </tbody>\n",
       "</table>\n",
       "</div>"
      ],
      "text/plain": [
       "         date    open    high     low   close     volume   average  barCount\n",
       "0  2021-01-27  380.22  380.32  372.01  374.41  824013.82  376.1155    425176\n",
       "1  2021-01-28  376.35  381.93  375.89  377.63  566183.05  379.5650    308505\n",
       "2  2021-01-29  375.61  376.67  368.27  370.07  891254.84  371.9580    450584\n",
       "3  2021-02-01  373.72  377.34  371.42  376.23  475904.11  375.1070    248781\n",
       "4  2021-02-02  379.61  383.22  379.60  381.55  428277.52  382.0780    206927"
      ]
     },
     "metadata": {},
     "output_type": "display_data"
    },
    {
     "data": {
      "text/html": [
       "<div>\n",
       "<style scoped>\n",
       "    .dataframe tbody tr th:only-of-type {\n",
       "        vertical-align: middle;\n",
       "    }\n",
       "\n",
       "    .dataframe tbody tr th {\n",
       "        vertical-align: top;\n",
       "    }\n",
       "\n",
       "    .dataframe thead th {\n",
       "        text-align: right;\n",
       "    }\n",
       "</style>\n",
       "<table border=\"1\" class=\"dataframe\">\n",
       "  <thead>\n",
       "    <tr style=\"text-align: right;\">\n",
       "      <th></th>\n",
       "      <th>date</th>\n",
       "      <th>open</th>\n",
       "      <th>high</th>\n",
       "      <th>low</th>\n",
       "      <th>close</th>\n",
       "      <th>volume</th>\n",
       "      <th>average</th>\n",
       "      <th>barCount</th>\n",
       "    </tr>\n",
       "  </thead>\n",
       "  <tbody>\n",
       "    <tr>\n",
       "      <th>360</th>\n",
       "      <td>2022-07-01</td>\n",
       "      <td>376.53</td>\n",
       "      <td>381.70</td>\n",
       "      <td>373.80</td>\n",
       "      <td>381.24</td>\n",
       "      <td>544227.12</td>\n",
       "      <td>377.9845</td>\n",
       "      <td>305919</td>\n",
       "    </tr>\n",
       "    <tr>\n",
       "      <th>361</th>\n",
       "      <td>2022-07-05</td>\n",
       "      <td>375.85</td>\n",
       "      <td>381.98</td>\n",
       "      <td>372.90</td>\n",
       "      <td>381.96</td>\n",
       "      <td>599357.20</td>\n",
       "      <td>376.9680</td>\n",
       "      <td>327463</td>\n",
       "    </tr>\n",
       "    <tr>\n",
       "      <th>362</th>\n",
       "      <td>2022-07-06</td>\n",
       "      <td>382.11</td>\n",
       "      <td>385.87</td>\n",
       "      <td>379.60</td>\n",
       "      <td>383.25</td>\n",
       "      <td>508193.11</td>\n",
       "      <td>382.4740</td>\n",
       "      <td>285984</td>\n",
       "    </tr>\n",
       "    <tr>\n",
       "      <th>363</th>\n",
       "      <td>2022-07-07</td>\n",
       "      <td>385.12</td>\n",
       "      <td>389.83</td>\n",
       "      <td>385.12</td>\n",
       "      <td>388.99</td>\n",
       "      <td>436231.68</td>\n",
       "      <td>387.9855</td>\n",
       "      <td>236374</td>\n",
       "    </tr>\n",
       "    <tr>\n",
       "      <th>364</th>\n",
       "      <td>2022-07-08</td>\n",
       "      <td>387.27</td>\n",
       "      <td>390.64</td>\n",
       "      <td>385.66</td>\n",
       "      <td>388.67</td>\n",
       "      <td>465708.68</td>\n",
       "      <td>388.6580</td>\n",
       "      <td>248321</td>\n",
       "    </tr>\n",
       "  </tbody>\n",
       "</table>\n",
       "</div>"
      ],
      "text/plain": [
       "           date    open    high     low   close     volume   average  barCount\n",
       "360  2022-07-01  376.53  381.70  373.80  381.24  544227.12  377.9845    305919\n",
       "361  2022-07-05  375.85  381.98  372.90  381.96  599357.20  376.9680    327463\n",
       "362  2022-07-06  382.11  385.87  379.60  383.25  508193.11  382.4740    285984\n",
       "363  2022-07-07  385.12  389.83  385.12  388.99  436231.68  387.9855    236374\n",
       "364  2022-07-08  387.27  390.64  385.66  388.67  465708.68  388.6580    248321"
      ]
     },
     "metadata": {},
     "output_type": "display_data"
    },
    {
     "name": "stderr",
     "output_type": "stream",
     "text": [
      "Error 1100, reqId -1: Connectivity between IB and Trader Workstation has been lost.\n",
      "Error 1100, reqId -1: Connectivity between IB and Trader Workstation has been lost.\n",
      "Error 1100, reqId -1: Connectivity between IB and Trader Workstation has been lost.\n",
      "Error 1100, reqId -1: Connectivity between IB and Trader Workstation has been lost.\n",
      "Error 1100, reqId -1: Connectivity between IB and Trader Workstation has been lost.\n",
      "Error 1100, reqId -1: Connectivity between IB and Trader Workstation has been lost.\n",
      "Error 1102, reqId -1: Connectivity between IB and Trader Workstation has been restored - data maintained. All data farms are connected: usfarm.nj; hfarm; usfuture; usopt; usfarm; euhmds; fundfarm; ushmds; secdefnj.\n",
      "Peer closed connection.\n"
     ]
    }
   ],
   "source": [
    "df = util.df(bars)\n",
    "\n",
    "display(df.head())\n",
    "display(df.tail())"
   ]
  }
 ],
 "metadata": {
  "kernelspec": {
   "display_name": "Python 3.8.10 ('pysystemtrade')",
   "language": "python",
   "name": "python3"
  },
  "language_info": {
   "codemirror_mode": {
    "name": "ipython",
    "version": 3
   },
   "file_extension": ".py",
   "mimetype": "text/x-python",
   "name": "python",
   "nbconvert_exporter": "python",
   "pygments_lexer": "ipython3",
   "version": "3.8.10"
  },
  "orig_nbformat": 4,
  "vscode": {
   "interpreter": {
    "hash": "ba2b737dbb19e62fd18730681e2b5822c3435dd1677e97bce9f5992785fdf1fb"
   }
  }
 },
 "nbformat": 4,
 "nbformat_minor": 2
}
