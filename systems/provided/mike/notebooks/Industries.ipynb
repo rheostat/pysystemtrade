{
 "cells": [
  {
   "cell_type": "code",
   "execution_count": null,
   "metadata": {},
   "outputs": [],
   "source": [
    "from systems.provided.mike.run_system import MySystem\n",
    "from sysdata.config.configdata import Config\n",
    "from dhalia.tickers.tickers import TickerLoader\n",
    "import matplotlib.pyplot as plt\n",
    "\n",
    "\n"
   ]
  },
  {
   "cell_type": "code",
   "execution_count": null,
   "metadata": {},
   "outputs": [],
   "source": [
    "def load_tickers(group):\n",
    "    return TickerLoader('../../../../../dhalia').load_tickers(group)\n",
    "\n",
    "def get_instrument_weights(tickers):\n",
    "    return { t:1 for t in tickers }"
   ]
  },
  {
   "cell_type": "code",
   "execution_count": null,
   "metadata": {},
   "outputs": [],
   "source": [
    "config = Config()\n",
    "config.start_date = '2020-09-01'\n",
    "config.use_forecast_scale_estimates = True\n",
    "# config.use_forecast_weight_estimates = True\n"
   ]
  },
  {
   "cell_type": "code",
   "execution_count": null,
   "metadata": {},
   "outputs": [],
   "source": [
    "\n",
    "plt.rc('figure', figsize=(30, 8))\n",
    "\n"
   ]
  },
  {
   "cell_type": "code",
   "execution_count": null,
   "metadata": {},
   "outputs": [],
   "source": [
    "group = 'currencies'\n",
    "tickers = load_tickers(group)\n",
    "config.instrument_weights = get_instrument_weights(tickers)\n",
    "mySystem = MySystem(group, config)\n",
    "\n",
    "mySystem.plot_forecast_histogram()\n"
   ]
  },
  {
   "cell_type": "code",
   "execution_count": null,
   "metadata": {},
   "outputs": [],
   "source": [
    "group = 'us_sectors'\n",
    "config.instrument_weights = get_instrument_weights(load_tickers(group))\n",
    "mySystem = MySystem(group, config)\n",
    "\n",
    "mySystem.plot_forecast_histogram()\n"
   ]
  },
  {
   "cell_type": "code",
   "execution_count": null,
   "metadata": {},
   "outputs": [],
   "source": [
    "group = 'bond_funds'\n",
    "config.instrument_weights = get_instrument_weights(load_tickers(group))\n",
    "mySystem = MySystem(group, config)\n",
    "\n",
    "mySystem.plot_forecast_histogram()\n"
   ]
  },
  {
   "cell_type": "code",
   "execution_count": null,
   "metadata": {},
   "outputs": [],
   "source": [
    "group = 'us_industries'\n",
    "config.instrument_weights = get_instrument_weights(load_tickers(group))\n",
    "mySystem = MySystem(group, config)\n",
    "\n",
    "mySystem.plot_forecast_histogram()\n"
   ]
  },
  {
   "cell_type": "code",
   "execution_count": null,
   "metadata": {},
   "outputs": [],
   "source": [
    "group = 'commodities'\n",
    "config.instrument_weights = get_instrument_weights(load_tickers(group))\n",
    "mySystem = MySystem(group, config)\n",
    "\n",
    "mySystem.plot_forecast_histogram()\n"
   ]
  },
  {
   "cell_type": "code",
   "execution_count": null,
   "metadata": {},
   "outputs": [],
   "source": [
    "group = 'factors'\n",
    "tickers = load_tickers('style_factors')\n",
    "tickers.extend(load_tickers('qualitative_factors'))\n",
    "tickers.extend(load_tickers('size_vs_value_factors'))\n",
    "config.instrument_weights = get_instrument_weights(tickers)\n",
    "mySystem = MySystem(group, config)\n",
    "\n",
    "mySystem.plot_forecast_histogram()\n"
   ]
  },
  {
   "cell_type": "code",
   "execution_count": null,
   "metadata": {},
   "outputs": [],
   "source": [
    "group = 'international_funds'\n",
    "tickers = load_tickers(group)\n",
    "config.instrument_weights = get_instrument_weights(tickers)\n",
    "mySystem = MySystem(group, config)\n",
    "\n",
    "mySystem.plot_forecast_histogram()\n"
   ]
  },
  {
   "cell_type": "code",
   "execution_count": null,
   "metadata": {},
   "outputs": [],
   "source": [
    "group = 'ark_funds'\n",
    "tickers = load_tickers(group)\n",
    "config.instrument_weights = get_instrument_weights(tickers)\n",
    "mySystem = MySystem(group, config)\n",
    "\n",
    "mySystem.plot_forecast_histogram()\n"
   ]
  }
 ],
 "metadata": {
  "kernelspec": {
   "display_name": "Python 3.8.10 ('pysystemtrade')",
   "language": "python",
   "name": "python3"
  },
  "language_info": {
   "codemirror_mode": {
    "name": "ipython",
    "version": 3
   },
   "file_extension": ".py",
   "mimetype": "text/x-python",
   "name": "python",
   "nbconvert_exporter": "python",
   "pygments_lexer": "ipython3",
   "version": "3.8.10"
  },
  "orig_nbformat": 4,
  "vscode": {
   "interpreter": {
    "hash": "ba2b737dbb19e62fd18730681e2b5822c3435dd1677e97bce9f5992785fdf1fb"
   }
  }
 },
 "nbformat": 4,
 "nbformat_minor": 2
}
