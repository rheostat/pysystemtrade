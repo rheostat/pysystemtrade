{
 "cells": [
  {
   "cell_type": "code",
   "execution_count": null,
   "metadata": {},
   "outputs": [],
   "source": [
    "from systems.provided.mike.run_system import MySystem\n",
    "from sysdata.config.configdata import Config\n",
    "from dhalia.tickers.tickers import TickerLoader\n",
    "import matplotlib.pyplot as plt\n",
    "from datetime import datetime, timedelta\n",
    "\n",
    "\n"
   ]
  },
  {
   "cell_type": "code",
   "execution_count": null,
   "metadata": {},
   "outputs": [],
   "source": [
    "def load_tickers(group):\n",
    "    return TickerLoader('../../../../../dhalia').load_tickers(group)\n",
    "\n",
    "def get_instrument_weights(tickers):\n",
    "    return { t:1 for t in tickers }"
   ]
  },
  {
   "cell_type": "code",
   "execution_count": null,
   "metadata": {},
   "outputs": [],
   "source": [
    "config = Config()\n",
    "config.start_date = datetime.now() - timedelta(days=365*2)\n",
    "config.use_forecast_scale_estimates = True\n",
    "# config.use_forecast_weight_estimates = True\n"
   ]
  },
  {
   "cell_type": "code",
   "execution_count": null,
   "metadata": {},
   "outputs": [],
   "source": [
    "def plot_group_rankings(*groups):\n",
    "    if isinstance(groups, str):\n",
    "        groups = [groups]\n",
    "\n",
    "    name = '/'.join(groups)\n",
    "    tickers = [ ticker for group in groups for ticker in load_tickers(group) ]\n",
    "    config.instrument_weights = get_instrument_weights(tickers)\n",
    "    mySystem = MySystem(name, config)\n",
    "    mySystem.system.set_logging_level('off')\n",
    "    plt.rc('figure', figsize=(30, 8))\n",
    "    mySystem.plot_forecast_histogram()\n"
   ]
  },
  {
   "cell_type": "code",
   "execution_count": null,
   "metadata": {},
   "outputs": [],
   "source": [
    "plot_group_rankings('currencies')\n"
   ]
  },
  {
   "cell_type": "code",
   "execution_count": null,
   "metadata": {},
   "outputs": [],
   "source": [
    "plot_group_rankings('us_sectors')\n"
   ]
  },
  {
   "cell_type": "code",
   "execution_count": null,
   "metadata": {},
   "outputs": [],
   "source": [
    "plot_group_rankings('bond_funds')"
   ]
  },
  {
   "cell_type": "code",
   "execution_count": null,
   "metadata": {},
   "outputs": [],
   "source": [
    "plot_group_rankings('us_industries')"
   ]
  },
  {
   "cell_type": "code",
   "execution_count": null,
   "metadata": {},
   "outputs": [],
   "source": [
    "plot_group_rankings('commodities')"
   ]
  },
  {
   "cell_type": "code",
   "execution_count": null,
   "metadata": {},
   "outputs": [],
   "source": [
    "plot_group_rankings('style_factors', 'qualitative_factors', 'size_vs_value_factors')"
   ]
  },
  {
   "cell_type": "code",
   "execution_count": null,
   "metadata": {},
   "outputs": [],
   "source": [
    "plot_group_rankings('international_funds')"
   ]
  },
  {
   "cell_type": "code",
   "execution_count": null,
   "metadata": {},
   "outputs": [],
   "source": [
    "plot_group_rankings('ark_funds')"
   ]
  }
 ],
 "metadata": {
  "kernelspec": {
   "display_name": "Python 3.8.10 ('pysystemtrade')",
   "language": "python",
   "name": "python3"
  },
  "language_info": {
   "codemirror_mode": {
    "name": "ipython",
    "version": 3
   },
   "file_extension": ".py",
   "mimetype": "text/x-python",
   "name": "python",
   "nbconvert_exporter": "python",
   "pygments_lexer": "ipython3",
   "version": "3.8.10 (default, Sep 28 2021, 16:10:42) \n[GCC 9.3.0]"
  },
  "orig_nbformat": 4,
  "vscode": {
   "interpreter": {
    "hash": "ba2b737dbb19e62fd18730681e2b5822c3435dd1677e97bce9f5992785fdf1fb"
   }
  }
 },
 "nbformat": 4,
 "nbformat_minor": 2
}
